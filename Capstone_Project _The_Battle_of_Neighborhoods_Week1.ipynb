{
 "cells": [
  {
   "cell_type": "markdown",
   "metadata": {},
   "source": [
    "# Analyzing COVID-19 community transmission risk in Dakar's public venues."
   ]
  },
  {
   "cell_type": "markdown",
   "metadata": {},
   "source": [
    "## Description of the problem and background"
   ]
  },
  {
   "cell_type": "markdown",
   "metadata": {},
   "source": [
    "In December 2019, an outbreak of apparently viral pneumonia of unknown origin emerged in the city of Wuhan, in the Chinese province of Hubei and spread out in the entire world.This pneumonia is an infectious disease caused by a virus belonging to the coronavirus family, currently referred to as SARS-CoV-2. \n",
    " \n",
    "As every country in the world at this current period, Senegal is facing the COVID-19 pandemic .Two types of transmission were identified:contact tranmission (origin of the contamination is known) and community transmission (origin of the contamination is unknown). Community transmissions are more difficult to handle as investigations  about the starting point may take time.\n",
    "\n",
    "Meanwhile, The Ministry of Health  has reported 1,709 cases all over the country, where Dakar, the capital has registered the highest number of cases. Among these cases, 184 are from community transmission.\n",
    "\n",
    "As the moves within the country are still allowed from 6AM to 6PM due to economic concerns and the virus can survive in the outdoor environment a few hours, it's essential to avoid areas where as a community transmission has been detected. Thus, it is necessary to identify areas of community transmission and especially its neighborhoods : public venues that are most frequented around this area .\n",
    "\n",
    "Besides the first measures that were prescribed ( curfew ,social distanciation and permanent uses of facemasks and gants.), rating the risk of transmission of a public venue would be  a precious information to prevent COVId_19 via community transmission, especially in areas of high density such as Dakar.\n",
    "\n",
    "In this project, we aim to cluster public venues around infected sites,based on the contamination risk.\n",
    "\n",
    "\n",
    "*************************************************************\n",
    "\n",
    "En décembre 2019, une épidémie de pneumonie apparemment virale d'origine inconnue est apparue dans la ville de Wuhan, dans la province chinoise du Hubei et s'est propagée dans le monde entier.Cette pneumonie est une maladie infectieuse causée par un virus appartenant à la famille des coronavirus, actuellement appelé SARS-CoV-2.\n",
    " \n",
    "Comme tous les pays du monde à cette période actuelle, le Sénégal est confronté à la pandémie de COVID-19. Deux types de transmission ont été identifiés: la transmission par contact (l'origine de la contamination est connue) et la transmission communautaire (l'origine de la contamination est inconnue). Les transmissions communautaires sont plus difficiles à gérer car les enquêtes sur le point de départ peuvent prendre du temps.\n",
    "\n",
    "Actuellement, le ministère de la Santé a signalé au total, 1709 cas dans tout le pays, où la capitale Dakar, enregistre le plus grand nombre de cas.Parmi ces cas, 184 sont communautaires.\n",
    "\n",
    "Comme les déplacements à l'intérieur du pays sont toujours autorisés de 6 h à 18 h en raison de problèmes économiques et que le virus peut survivre dans l'environnement extérieur quelques heures, il est essentiel d'éviter les zones où une transmission communautaire a été détectée. Ainsi, il est nécessaire d'identifier les zones de transmission communautaire et surtout ses alentours: les lieux publics les plus fréquentés autour de cette zone.\n",
    "\n",
    "Outre les premières mesures qui ont été prescrites (couvre-feu, distanciation sociale et utilisations permanentes des masques faciaux et des gants.), l'évaluation du risque de transmission dans un lieu public serait une information précieuse pour éviter la transmission communautaire, en particulier dans les zones à forte densité telle que la région de Dakar.\n"
   ]
  },
  {
   "cell_type": "markdown",
   "metadata": {},
   "source": [
    "## Data description "
   ]
  },
  {
   "attachments": {},
   "cell_type": "markdown",
   "metadata": {},
   "source": [
    "###### To consider the problem, we use data from  a public Github repository (https://github.com/genova/covid19/tree/master/data) .\n",
    "The repository contains: \n",
    "\n",
    "\t\n",
    "- 2020.csv: information about the positive cases (age,sexe,district,contact,..)\n",
    "- confirmes.csv: the evolution of tests,cases,contacts,evacuated cases,healed case,transmission(community/contact) per day\n",
    "- dons.csv: contains information about social donation,not of interest\n",
    "- gueris.csv\t: the evolution of healed cases per day and region\t\n",
    "- regions_cas.csv\t: the number confirmed cases per region\n",
    "- zone_c_confirmesGeo.csv: the number of community cases per district\n",
    "- zone_confirmes.csv\t: the number of community cases per district,day\n",
    "- zone_confirmesGeo.csv:the number of contact cases per district\n",
    "\n",
    "Note that The Health Ministry updates daily the data. The data above were lastly updated on May 10th, 2020\n",
    "\n",
    "We identify as file of interest, zone_c_confirmesGeo.csv: the number of community cases per district.\n",
    "This file is structured as followed:\n",
    "- district: name of district\t\n",
    "- cas\t: number of community cases\n",
    "- lat\t:district latitude\n",
    "- lon: district longitude\n",
    "\n",
    "\n",
    "To describe data at a  more fine -grained level, we enhance the data. We manually set-up two additionnal attributes 'Borough\" and 'Departments' by collecting related information from Wikipedia. All processed datasets are available  in our Github Repository."
   ]
  },
  {
   "cell_type": "markdown",
   "metadata": {},
   "source": [
    "The main goal is to cluster public venues around infected sites, based on the contamination risk.\n",
    "\n",
    "To do so,we may use:\n",
    "\n",
    "\n",
    "\n",
    "- the geographical coordinate of a contamination area, to explore its neighborhood via **Foursquare API**\n",
    "-  different level of risk contamination (e.g. number of clusters), based on the visualization made on our dataset( **histogram and bar plot**).\n",
    "- **K--Means** as clustering algorithm\n",
    "- venues location and type, label, borough to create dedicated maps with **Folium**\n",
    "- coordinate of Dakar center will be obtained using **Google Maps API geocoding**\n",
    "\n"
   ]
  },
  {
   "cell_type": "code",
   "execution_count": null,
   "metadata": {},
   "outputs": [],
   "source": []
  }
 ],
 "metadata": {
  "kernelspec": {
   "display_name": "Python 3",
   "language": "python",
   "name": "python3"
  },
  "language_info": {
   "codemirror_mode": {
    "name": "ipython",
    "version": 3
   },
   "file_extension": ".py",
   "mimetype": "text/x-python",
   "name": "python",
   "nbconvert_exporter": "python",
   "pygments_lexer": "ipython3",
   "version": "3.7.4"
  }
 },
 "nbformat": 4,
 "nbformat_minor": 2
}
